{
 "cells": [
  {
   "cell_type": "markdown",
   "id": "1ff15fc5-062a-4c84-85b8-09cce31ad629",
   "metadata": {},
   "source": [
    "# Análise de Sentimento do meu TCC"
   ]
  },
  {
   "cell_type": "markdown",
   "id": "1a4100f8-ae42-4174-a109-bc96933e5ee2",
   "metadata": {},
   "source": [
    "### Importando as funções, classes e pacotes necessários"
   ]
  },
  {
   "cell_type": "code",
   "execution_count": null,
   "id": "5a106c40-44a6-4583-87fe-110329734d61",
   "metadata": {},
   "outputs": [],
   "source": [
    "import csv\n",
    "\n",
    "import pandas as pd # lembrando que o chormadb pode ser melhor que o pandas!\n",
    "\n",
    "import numpy as np\n",
    "\n",
    "import matplotlib.pyplot as plt\n",
    "\n",
    "import seaborn as sns\n",
    "\n",
    "import nltk\n",
    "from nltk.tokenize import sent_tokenize, word_tokenize\n",
    "nltk.download('punkt')\n",
    "\n",
    "from sentence_transformers import SentenceTransformer\n",
    "\n",
    "from sklearn.model_selection import train_test_split\n",
    "\n",
    "from sklearn.linear_model import SGDClassifier\n",
    "\n",
    "from sklearn.model_selection import GridSearchCV\n",
    "\n",
    "from sklearn.ensemble import RandomForestClassifier"
   ]
  },
  {
   "cell_type": "markdown",
   "id": "40820911-69eb-4ee2-a3ad-e31a0a667229",
   "metadata": {},
   "source": [
    "### Tratamento dos dados"
   ]
  },
  {
   "cell_type": "code",
   "execution_count": null,
   "id": "550d80ae-aca0-4146-bc2d-171b4b0e82ec",
   "metadata": {},
   "outputs": [],
   "source": [
    "df = pd.read_csv('amazon_baby.csv') #convertendo o arquivo csv em um DataFrame"
   ]
  },
  {
   "cell_type": "code",
   "execution_count": null,
   "id": "32edb930-fd7f-4d08-a7e4-cb2cc0a66717",
   "metadata": {},
   "outputs": [],
   "source": [
    "df.dropna(inplace=True) # para limpar os dados (eliminar dados faltantes)\n",
    "len(df)"
   ]
  },
  {
   "cell_type": "markdown",
   "id": "9e943935-379b-400d-ab75-1c6c0264beb6",
   "metadata": {},
   "source": [
    "## VAMOS DEFINIR OS SENTIMENTOS \n",
    "SE RATING= 1 ENTAO NEGATIVO, SE RATING = 5 ENTAO POSITIVO\n",
    "REMOVER O RESTANTE DOS COMENTARIOS\n",
    "\n",
    "negativo -> 0\n",
    "\n",
    "positivo -> 1"
   ]
  },
  {
   "cell_type": "code",
   "execution_count": null,
   "id": "e42fc57a-6f32-4a9a-a057-b659814f33f5",
   "metadata": {},
   "outputs": [],
   "source": [
    "df = df[(df[\"rating\"] == 1) | (df[\"rating\"] == 5)]"
   ]
  },
  {
   "cell_type": "code",
   "execution_count": null,
   "id": "6ac899ce-3a7a-465b-96f1-01454e183e08",
   "metadata": {},
   "outputs": [],
   "source": [
    "df['sentimento'] = df['rating'].apply(lambda x: 0 if x in [1,2] else 1)"
   ]
  },
  {
   "cell_type": "markdown",
   "id": "ec1c8be3-c828-4841-9f88-dbfe6edeb8a1",
   "metadata": {},
   "source": [
    "### visualizando a quantidade de textos negativos e positivos"
   ]
  },
  {
   "cell_type": "code",
   "execution_count": null,
   "id": "ba142adb-7a76-4b93-a4ba-ad1b6211eb1c",
   "metadata": {},
   "outputs": [],
   "source": [
    "sns.histplot(data = df, x = \"sentimento\")"
   ]
  },
  {
   "cell_type": "code",
   "execution_count": null,
   "id": "3b870873-eb38-4823-8aa1-6b32b38cc8d1",
   "metadata": {},
   "outputs": [],
   "source": [
    "round(N_sent[0]/N_sent.sum()*100,2), round(N_sent[1]/N_sent.sum()*100,2)"
   ]
  },
  {
   "cell_type": "markdown",
   "id": "a7a4731a-f7bb-4aaa-9feb-fd3949df7bef",
   "metadata": {},
   "source": [
    "### Segmentando os textos em Sentenças e Contagem dos tokens de cada sentença "
   ]
  },
  {
   "cell_type": "code",
   "execution_count": null,
   "id": "80f0afe2-5217-4ecf-b32a-636b259b9834",
   "metadata": {},
   "outputs": [],
   "source": [
    "def count_tokens(sent):\n",
    "    return np.array([len(word_tokenize(i)) for i in sent])\n",
    "\n",
    "\n",
    "def list_sent(text):\n",
    "    return sent_tokenize(text)"
   ]
  },
  {
   "cell_type": "code",
   "execution_count": null,
   "id": "645833ad-79e3-43d4-a522-c25a0d681f82",
   "metadata": {},
   "outputs": [],
   "source": [
    "df[\"sentences\"] = df['review'].apply(list_sent)"
   ]
  },
  {
   "cell_type": "code",
   "execution_count": null,
   "id": "50732b87-88f6-49dc-aa19-8c09e74948e8",
   "metadata": {},
   "outputs": [],
   "source": [
    "df[\"count_tokens\"]= df[\"sentences\"].apply(count_tokens)"
   ]
  },
  {
   "cell_type": "code",
   "execution_count": null,
   "id": "c58b22d4-4808-4cac-ba03-5f850f27be86",
   "metadata": {},
   "outputs": [],
   "source": [
    "# função para filtrar sentenças que apresentem de 8 a 30 tokens\n",
    "def filter(array,cutoff = [8,30]):\n",
    "    return (array.min()>cutoff[0]) & (array.max()<cutoff[1])"
   ]
  },
  {
   "cell_type": "code",
   "execution_count": null,
   "id": "72e816e8-e2c6-4294-9a22-a672df90637d",
   "metadata": {},
   "outputs": [],
   "source": [
    "df = df[df[\"count_tokens\"].apply(filter)]"
   ]
  },
  {
   "cell_type": "code",
   "execution_count": null,
   "id": "fb1f4df3-5d94-40a8-a560-6d4c319a614a",
   "metadata": {},
   "outputs": [],
   "source": [
    "def n_sent(lista):\n",
    "    return len(lista)"
   ]
  },
  {
   "cell_type": "code",
   "execution_count": null,
   "id": "a535ca07-837e-4702-82cf-6b1cb58e0a6c",
   "metadata": {},
   "outputs": [],
   "source": [
    "length_neg = (df[\"sentimento\"] == 0).sum()\n",
    "length_neg"
   ]
  },
  {
   "cell_type": "markdown",
   "id": "65bffad4-3db9-47b0-ba52-e85584b76cfe",
   "metadata": {},
   "source": [
    "### Balanceando os dados (undersampling)"
   ]
  },
  {
   "cell_type": "code",
   "execution_count": null,
   "id": "44c243f6-4dbf-4607-9e6f-168770d55a2b",
   "metadata": {},
   "outputs": [],
   "source": [
    "df = pd.concat([df[df[\"sentimento\"]==0],df[df[\"sentimento\"]==1].sample(n=length_neg)], ignore_index=True)"
   ]
  },
  {
   "cell_type": "code",
   "execution_count": null,
   "id": "bc1c1430-1347-4bde-890f-44f64e4d5ee3",
   "metadata": {},
   "outputs": [],
   "source": [
    "df['count_tokens'].apply(n_sent).sum()"
   ]
  },
  {
   "cell_type": "code",
   "execution_count": null,
   "id": "ae3f7857-b103-4b37-93bf-1229b86951b6",
   "metadata": {},
   "outputs": [],
   "source": [
    "df['count_tokens']"
   ]
  },
  {
   "cell_type": "code",
   "execution_count": null,
   "id": "9f109fd9-a720-4d0e-b4c3-3854e9ae83a4",
   "metadata": {},
   "outputs": [],
   "source": [
    "df[\"sentences\"][0]"
   ]
  },
  {
   "cell_type": "markdown",
   "id": "811cff57-57a6-4a90-ad26-9c681210f7ea",
   "metadata": {},
   "source": [
    "### Representando vetorialmente os texto através de embeddings (SBERT)"
   ]
  },
  {
   "cell_type": "code",
   "execution_count": null,
   "id": "cfd0b3b2-e728-4265-aedd-ca96c68d5c75",
   "metadata": {},
   "outputs": [],
   "source": [
    "model = SentenceTransformer(\"all-MiniLM-L6-v2\")"
   ]
  },
  {
   "cell_type": "code",
   "execution_count": null,
   "id": "13a4bb67-bc91-4d46-8e4d-b006685aba97",
   "metadata": {},
   "outputs": [],
   "source": [
    "#função para criar os embeddings de cada sentença\n",
    "def embedder(lista):\n",
    "    return model.encode(lista)\n",
    "\n",
    "#função para agregar os embeddings de um texto (valor médio)\n",
    "def mean_aggregation(embeddings):\n",
    "    return embeddings.mean(axis=0).reshape(1,-1)\n",
    "\n",
    "#função para agregar os embeddings de um texto (max pooling)\n",
    "def max_pooling(embeddings):\n",
    "    max_index = np.argmax(np.abs(embeddings),axis = 0)\n",
    "    return embeddings[max_index,np.arange(embeddings.shape[1])].reshape(1,-1)"
   ]
  },
  {
   "cell_type": "code",
   "execution_count": null,
   "id": "c54efb69-fa1e-4ce0-a869-c9f131c71883",
   "metadata": {},
   "outputs": [],
   "source": [
    "df[\"embeddings\"] = df[\"sentences\"].apply(embedder)"
   ]
  },
  {
   "cell_type": "code",
   "execution_count": null,
   "id": "1ab7fd89-3578-4c06-a833-c18cf3af6593",
   "metadata": {},
   "outputs": [],
   "source": [
    "#df[\"emb_max_pooling\"] = df[\"embeddings\"].apply(max_pooling)"
   ]
  },
  {
   "cell_type": "code",
   "execution_count": null,
   "id": "a12f2df8-dffc-488f-b131-58148d4a9fe3",
   "metadata": {},
   "outputs": [],
   "source": [
    "df[\"emb_mean\"] = df[\"embeddings\"].apply(mean_aggregation)"
   ]
  },
  {
   "cell_type": "markdown",
   "id": "5609ac08-9dcb-4bc7-a6c7-ae55a032542d",
   "metadata": {},
   "source": [
    "### Reservando dados para testar os modelos após treinamento/validação "
   ]
  },
  {
   "cell_type": "code",
   "execution_count": null,
   "id": "f31da39c-3a23-4bed-9e6d-45787ebd9368",
   "metadata": {},
   "outputs": [],
   "source": [
    "def to_train(X):\n",
    "    return np.concatenate(X.values)"
   ]
  },
  {
   "cell_type": "code",
   "execution_count": null,
   "id": "122bd4e8-f983-4b5f-85ea-c2c4214ce3b8",
   "metadata": {},
   "outputs": [],
   "source": [
    "X_train, X_test, y_train, y_test = train_test_split(to_train(df[\"emb_mean\"]), df[\"sentimento\"], test_size = 0.20, random_state=22)"
   ]
  },
  {
   "cell_type": "markdown",
   "id": "644fb291-9e83-4af7-9847-d712d9831936",
   "metadata": {},
   "source": [
    "## Treinamento e Validação dos Algoritmos"
   ]
  },
  {
   "cell_type": "markdown",
   "id": "176da40f-1128-4d88-b034-0fb0c77e80ca",
   "metadata": {},
   "source": [
    "### Modelo 1"
   ]
  },
  {
   "cell_type": "code",
   "execution_count": null,
   "id": "3e07fb67-71e6-4f49-bf48-eccdb500cfb0",
   "metadata": {},
   "outputs": [],
   "source": [
    "modelo1 = SGDClassifier()"
   ]
  },
  {
   "cell_type": "code",
   "execution_count": null,
   "id": "0d2d3240-e934-47cb-97be-042a1c38a2ab",
   "metadata": {},
   "outputs": [],
   "source": [
    "param_grid_model1 = {\"loss\":[\"hinge\",\"log_loss\",\"modified_huber\"],\"penalty\":['l1','l2','elasticnet'],\"alpha\":[0.005, 0.0001],\"l1_ratio\":[0.15,0.5,0.8],\"max_iter\":[2000,5000]}"
   ]
  },
  {
   "cell_type": "code",
   "execution_count": null,
   "id": "2bc403dc-ff97-4816-8ece-df04240fdad5",
   "metadata": {},
   "outputs": [],
   "source": [
    "grid_search_model1 = GridSearchCV(modelo1,param_grid_model1,cv=5,return_train_score=True)"
   ]
  },
  {
   "cell_type": "code",
   "execution_count": null,
   "id": "b1976a8b-0d70-4ec4-9418-cc8d2c606375",
   "metadata": {},
   "outputs": [],
   "source": [
    "grid_search_model1.best_estimator_"
   ]
  },
  {
   "cell_type": "code",
   "execution_count": null,
   "id": "74a40524-57ba-45d6-96cb-29f6514812d5",
   "metadata": {},
   "outputs": [],
   "source": [
    "cvres_model1 = grid_search_model1.cv_results_"
   ]
  },
  {
   "cell_type": "code",
   "execution_count": null,
   "id": "a5080273-5e27-40bc-b4a7-3fcc3f7e2887",
   "metadata": {},
   "outputs": [],
   "source": []
  },
  {
   "cell_type": "code",
   "execution_count": null,
   "id": "bdab1f4d-5c5c-431f-b2f4-cacdfe800f1f",
   "metadata": {},
   "outputs": [],
   "source": [
    "modelo2 = RandomForestClassifier(random_state=42)"
   ]
  },
  {
   "cell_type": "code",
   "execution_count": null,
   "id": "4cba75dd-6688-4f2b-8ea5-e1a5f8e1d4ef",
   "metadata": {},
   "outputs": [],
   "source": [
    "param_grid_model2 = {\"n_estimators\":[100,200,300,400,500,600,700],\"max_depth\":[10,20,30,40,50],\"min_samples_split\":[2,5,10],\n",
    "                    \"min_samples_leaf\":[1,2,4,8],\"max_features\":['sqrt','log2']}"
   ]
  },
  {
   "cell_type": "code",
   "execution_count": null,
   "id": "565b9830-e2b8-4bf0-b68f-651916e4923e",
   "metadata": {},
   "outputs": [],
   "source": [
    "grid_search_model2 = GridSearchCV(modelo2,param_grid_model2,cv=5, verbose=2)"
   ]
  },
  {
   "cell_type": "code",
   "execution_count": null,
   "id": "964ebb57-af3d-4bcb-b915-a4b6e98cecc6",
   "metadata": {},
   "outputs": [],
   "source": [
    "grid_search_model2.fit(X_train,y_train)"
   ]
  },
  {
   "cell_type": "code",
   "execution_count": null,
   "id": "64fbc660-e6a3-4f8e-85c8-e33a2b077dbe",
   "metadata": {},
   "outputs": [],
   "source": [
    "cvres_model2 = grid_search_model2.cv_results_"
   ]
  },
  {
   "cell_type": "code",
   "execution_count": null,
   "id": "c3bcde2a-95ab-43cc-98f8-2a989ebfc192",
   "metadata": {},
   "outputs": [],
   "source": []
  },
  {
   "cell_type": "code",
   "execution_count": null,
   "id": "13deb314-b42d-4d42-b91d-f3352a88525c",
   "metadata": {},
   "outputs": [],
   "source": []
  },
  {
   "cell_type": "code",
   "execution_count": null,
   "id": "8242bca5-40a4-481d-8653-b7343841df67",
   "metadata": {},
   "outputs": [],
   "source": []
  },
  {
   "cell_type": "code",
   "execution_count": null,
   "id": "e1303973-7100-4630-bf3f-d82758facd27",
   "metadata": {},
   "outputs": [],
   "source": []
  },
  {
   "cell_type": "code",
   "execution_count": null,
   "id": "12c01e62-d678-443d-bfaa-8547c9670d4a",
   "metadata": {},
   "outputs": [],
   "source": []
  },
  {
   "cell_type": "code",
   "execution_count": null,
   "id": "12f6c1c9-a602-43cd-85ab-d55e8717dead",
   "metadata": {},
   "outputs": [],
   "source": []
  },
  {
   "cell_type": "code",
   "execution_count": null,
   "id": "5170158a-bcf4-4346-9db3-a88eddcf032c",
   "metadata": {},
   "outputs": [],
   "source": []
  }
 ],
 "metadata": {
  "kernelspec": {
   "display_name": "Python 3 (ipykernel)",
   "language": "python",
   "name": "python3"
  },
  "language_info": {
   "codemirror_mode": {
    "name": "ipython",
    "version": 3
   },
   "file_extension": ".py",
   "mimetype": "text/x-python",
   "name": "python",
   "nbconvert_exporter": "python",
   "pygments_lexer": "ipython3",
   "version": "3.12.4"
  }
 },
 "nbformat": 4,
 "nbformat_minor": 5
}
